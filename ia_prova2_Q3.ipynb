{
 "cells": [
  {
   "cell_type": "code",
   "execution_count": 1,
   "metadata": {},
   "outputs": [],
   "source": [
    "import numpy as np\n",
    "import pandas as pd\n",
    "\n",
    "import matplotlib.pyplot as plt\n",
    "import seaborn as sns\n",
    "\n",
    "from sklearn import preprocessing, metrics\n",
    "from sklearn.cluster import KMeans, AgglomerativeClustering\n",
    "\n",
    "import warnings\n",
    "warnings.filterwarnings('ignore')"
   ]
  },
  {
   "cell_type": "code",
   "execution_count": 2,
   "metadata": {},
   "outputs": [
    {
     "data": {
      "text/plain": [
       "Team                             0\n",
       "category                         0\n",
       "general_league_position          0\n",
       "finance _live_games_televised    0\n",
       "finance _tv_revenue              0\n",
       "general_matches_played           0\n",
       "general_won                      0\n",
       "general_draw                     0\n",
       "general_lost                     0\n",
       "attack_scored                    0\n",
       "defence_goals_conceeded          0\n",
       "general_goal_difference          0\n",
       "general_points                   0\n",
       "general_squad_size               0\n",
       "general_squad_average_age        0\n",
       "general_squad_foreigners         0\n",
       "finance _team_market             0\n",
       "finance _market_average          0\n",
       "attack_passes                    0\n",
       "attack_passes_through            0\n",
       "attack_passes_long               0\n",
       "attack_passes_back               0\n",
       "attack_crosses                   0\n",
       "attack_corners_taken             0\n",
       "attack_shots                     0\n",
       "attack_shots_on_target           0\n",
       "attack_goals_headed              0\n",
       "attack_goals_penalty             0\n",
       "attack_goals_box                 0\n",
       "attack_goals_outsidebox          0\n",
       "general_card_yellow              0\n",
       "general_card_red                 0\n",
       "attack_goals_counter             0\n",
       "attack_goals_freekick            0\n",
       "defence_saves                    0\n",
       "defence_blocks                   0\n",
       "defence_interceptions            0\n",
       "defence_tackles                  0\n",
       "defence_tackles_last_man         0\n",
       "defence_clearances               0\n",
       "defence_clearances_headed        0\n",
       "defence_penalty_conceeded        0\n",
       "attack_posession                 0\n",
       "attack_pass_accuracy             0\n",
       "dtype: int64"
      ]
     },
     "execution_count": 2,
     "metadata": {},
     "output_type": "execute_result"
    }
   ],
   "source": [
    "train_df = pd.read_csv(\"/home/felipe/Documents/uf/IA/prova/epl/epl_1819.csv\", encoding='utf-8')\n",
    "\n",
    "train_df.isnull().sum()"
   ]
  },
  {
   "cell_type": "markdown",
   "metadata": {},
   "source": [
    "## Limpeza dos dados\n",
    "\n",
    "A base não possui células vazias, porém duas colunas possuem valores categóricos e podem ser ignoradas."
   ]
  },
  {
   "cell_type": "code",
   "execution_count": 3,
   "metadata": {},
   "outputs": [],
   "source": [
    "train_df = train_df._get_numeric_data()"
   ]
  },
  {
   "cell_type": "markdown",
   "metadata": {},
   "source": [
    "### Normalizar dados"
   ]
  },
  {
   "cell_type": "code",
   "execution_count": 4,
   "metadata": {},
   "outputs": [],
   "source": [
    "norm_df = preprocessing.Normalizer().fit_transform(train_df)"
   ]
  },
  {
   "cell_type": "markdown",
   "metadata": {},
   "source": [
    "### K-Means"
   ]
  },
  {
   "cell_type": "code",
   "execution_count": 5,
   "metadata": {},
   "outputs": [
    {
     "name": "stdout",
     "output_type": "stream",
     "text": [
      "----------- BRUTE DATA -----------\n",
      "K = 2\n",
      "silhouette with max_iter = 1 : 0.7775605395450415\n",
      "silhouette with max_iter = 10 : 0.7775605395450415\n",
      "silhouette with max_iter = 100 : 0.7775605395450415\n",
      "--------------------------------------------------------------------------------\n",
      "K = 5\n",
      "silhouette with max_iter = 1 : 0.5068576391996034\n",
      "silhouette with max_iter = 10 : 0.5068576391996034\n",
      "silhouette with max_iter = 100 : 0.5068576391996034\n",
      "--------------------------------------------------------------------------------\n",
      "K = 10\n",
      "silhouette with max_iter = 1 : 0.4795901498429158\n",
      "silhouette with max_iter = 10 : 0.4795901498429158\n",
      "silhouette with max_iter = 100 : 0.4795901498429158\n",
      "--------------------------------------------------------------------------------\n",
      "\n",
      "----------- NORMALIZED DATA -----------\n",
      "K = 2\n",
      "silhouette with max_iter = 1 : 0.6260318291234148\n",
      "silhouette with max_iter = 10 : 0.6260318291234148\n",
      "silhouette with max_iter = 100 : 0.6260318291234148\n",
      "--------------------------------------------------------------------------------\n",
      "K = 5\n",
      "silhouette with max_iter = 1 : 0.6596441040855795\n",
      "silhouette with max_iter = 10 : 0.6596441040855795\n",
      "silhouette with max_iter = 100 : 0.6596441040855795\n",
      "--------------------------------------------------------------------------------\n",
      "K = 10\n",
      "silhouette with max_iter = 1 : 0.4535508052352438\n",
      "silhouette with max_iter = 10 : 0.4535508052352438\n",
      "silhouette with max_iter = 100 : 0.4535508052352438\n",
      "--------------------------------------------------------------------------------\n"
     ]
    }
   ],
   "source": [
    "iters = [1, 10, 100]\n",
    "k_values = [2, 5, 10]\n",
    "\n",
    "print(\"----------- BRUTE DATA -----------\") \n",
    "\n",
    "for k in k_values:\n",
    "    print(\"K =\", k)\n",
    "    for i in iters:\n",
    "        kmeans_model = KMeans(n_clusters = k, max_iter=i, random_state=0)\n",
    "        kmeans_model.fit_predict(train_df)\n",
    "\n",
    "        labels = kmeans_model.labels_\n",
    "        print(\"silhouette with max_iter = {i} :\".format(i=i), metrics.silhouette_score(train_df, labels, metric='euclidean'))\n",
    "\n",
    "    print(\"--------------------------------------------------------------------------------\")\n",
    "\n",
    "print(\"\\n----------- NORMALIZED DATA -----------\")    \n",
    "\n",
    "for k in k_values:\n",
    "    print(\"K =\", k)\n",
    "    for i in iters:\n",
    "        kmeans_model = KMeans(n_clusters = k, max_iter=i, random_state=0)\n",
    "        kmeans_model.fit_predict(norm_df)\n",
    "\n",
    "        labels = kmeans_model.labels_\n",
    "        print(\"silhouette with max_iter = {i} :\".format(i=i), metrics.silhouette_score(norm_df, labels, metric='euclidean'))\n",
    "\n",
    "    print(\"--------------------------------------------------------------------------------\")"
   ]
  },
  {
   "cell_type": "markdown",
   "metadata": {},
   "source": [
    "### Hierárquico (Agglomerative Clustering)"
   ]
  },
  {
   "cell_type": "code",
   "execution_count": 6,
   "metadata": {},
   "outputs": [
    {
     "name": "stdout",
     "output_type": "stream",
     "text": [
      "----------- BRUTE DATA -----------\n",
      "K = 2\n",
      "silhouette with linkage = ward : 0.7775605395450415\n",
      "silhouette with linkage = complete : 0.7488503743292658\n",
      "silhouette with linkage = average : 0.7775605395450415\n",
      "silhouette with linkage = single : 0.7775605395450415\n",
      "--------------------------------------------------------------------------------\n",
      "\n",
      "K = 5\n",
      "silhouette with linkage = ward : 0.5068576391996034\n",
      "silhouette with linkage = complete : 0.5068576391996034\n",
      "silhouette with linkage = average : 0.5068576391996034\n",
      "silhouette with linkage = single : 0.4322618292576014\n",
      "--------------------------------------------------------------------------------\n",
      "\n",
      "K = 10\n",
      "silhouette with linkage = ward : 0.4795901498429158\n",
      "silhouette with linkage = complete : 0.4795901498429158\n",
      "silhouette with linkage = average : 0.4795901498429158\n",
      "silhouette with linkage = single : 0.3194578189454153\n",
      "--------------------------------------------------------------------------------\n",
      "\n",
      "\n",
      "----------- NORMALIZED DATA -----------\n",
      "K = 2\n",
      "silhouette with linkage = ward : 0.6260318291234148\n",
      "silhouette with linkage = complete : 0.6260318291234148\n",
      "silhouette with linkage = average : 0.5109480073899146\n",
      "silhouette with linkage = single : 0.5109480073899146\n",
      "--------------------------------------------------------------------------------\n",
      "\n",
      "K = 5\n",
      "silhouette with linkage = ward : 0.5822499734738472\n",
      "silhouette with linkage = complete : 0.5822499734738472\n",
      "silhouette with linkage = average : 0.6596441040855795\n",
      "silhouette with linkage = single : 0.40031962806716326\n",
      "--------------------------------------------------------------------------------\n",
      "\n",
      "K = 10\n",
      "silhouette with linkage = ward : 0.43080471354146416\n",
      "silhouette with linkage = complete : 0.4477286201836826\n",
      "silhouette with linkage = average : 0.43080471354146416\n",
      "silhouette with linkage = single : 0.43080471354146416\n",
      "--------------------------------------------------------------------------------\n",
      "\n"
     ]
    }
   ],
   "source": [
    "linkages = ['ward', 'complete', 'average', 'single']\n",
    "\n",
    "print(\"----------- BRUTE DATA -----------\") \n",
    "\n",
    "for k in k_values:\n",
    "    print(\"K =\", k)\n",
    "    for link in linkages:\n",
    "        ac_model = AgglomerativeClustering(n_clusters=k, linkage=link)\n",
    "        ac_model.fit_predict(train_df)\n",
    "\n",
    "        ac_labels = ac_model.labels_\n",
    "        print(\"silhouette with linkage = {i} :\".format(i=link), metrics.silhouette_score(train_df, ac_labels, metric='euclidean'))\n",
    "    print(\"--------------------------------------------------------------------------------\\n\")\n",
    "\n",
    "print(\"\\n----------- NORMALIZED DATA -----------\")   \n",
    "\n",
    "for k in k_values:\n",
    "    print(\"K =\", k)\n",
    "    for link in linkages:\n",
    "        ac_model = AgglomerativeClustering(n_clusters=k, linkage=link)\n",
    "        ac_model.fit_predict(norm_df)\n",
    "\n",
    "        ac_labels = ac_model.labels_\n",
    "        print(\"silhouette with linkage = {i} :\".format(i=link), metrics.silhouette_score(norm_df, ac_labels, metric='euclidean'))\n",
    "    print(\"--------------------------------------------------------------------------------\\n\")"
   ]
  },
  {
   "cell_type": "markdown",
   "metadata": {},
   "source": [
    "## Conclusão\n",
    "\n",
    "#### Comparação\n",
    "\n",
    "Dado que a métrica de silhueta descreve o quanto os membros do _cluster_ são semelhantes, foi possível perceber que os dois algoritmos agruparam melhor as classes quando foram considerados 2 clusters como saída, com ambos tendo pontuação máxima de 0.77. \n",
    "\n",
    "Ao variar o número de _clusters_ (K), nota-se que 2 é o melhor valor para K, baseado na silhueta. \n",
    "\n",
    "Variar o valor máximo de iterações no K-Means entre 1, 10 e 100 não surtiu diferença.\n",
    "\n",
    "Variando o _linkage_ no algoritmo Hierárquico nota-se que a pontuação de silhueta varia de forma que para cada valor de K há tipos de _linkage_ que conseguem agrupar melhor os dados.\n",
    "\n",
    "#### Normalizando\n",
    "\n",
    "Normalizando os dados, a pontuação de silhueta diminuiu para K = 2 e K = 10, porém aumentou para K = 5. "
   ]
  }
 ],
 "metadata": {
  "kernelspec": {
   "display_name": "Python 3",
   "language": "python",
   "name": "python3"
  },
  "language_info": {
   "codemirror_mode": {
    "name": "ipython",
    "version": 3
   },
   "file_extension": ".py",
   "mimetype": "text/x-python",
   "name": "python",
   "nbconvert_exporter": "python",
   "pygments_lexer": "ipython3",
   "version": "3.7.3"
  }
 },
 "nbformat": 4,
 "nbformat_minor": 2
}
