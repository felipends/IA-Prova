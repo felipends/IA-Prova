{
 "cells": [
  {
   "cell_type": "code",
   "execution_count": 1,
   "metadata": {},
   "outputs": [],
   "source": [
    "import numpy as np\n",
    "import pandas as pd\n",
    "import matplotlib.pyplot as plt\n",
    "import seaborn as sns\n",
    "\n",
    "from sklearn.model_selection import train_test_split\n",
    "from sklearn import svm, naive_bayes, metrics, preprocessing\n",
    "\n",
    "from sklearn.model_selection import cross_val_score\n",
    "\n",
    "import warnings\n",
    "warnings.filterwarnings('ignore')"
   ]
  },
  {
   "cell_type": "code",
   "execution_count": 2,
   "metadata": {},
   "outputs": [],
   "source": [
    "train_df = pd.read_csv(\"/home/josefelipe/Documents/IA-Thais/prova/titanic/train.csv\", encoding='UTF-8')"
   ]
  },
  {
   "cell_type": "markdown",
   "metadata": {},
   "source": [
    "## Limpeza dos dados\n",
    "\n",
    "O primeiro ponto a ser levado em conta será detectar dados faltantes no dataset de treino."
   ]
  },
  {
   "cell_type": "code",
   "execution_count": 3,
   "metadata": {},
   "outputs": [
    {
     "name": "stdout",
     "output_type": "stream",
     "text": [
      "Dados nulos por colunas:\n",
      " PassengerId      0\n",
      "Survived         0\n",
      "Pclass           0\n",
      "Name             0\n",
      "Sex              0\n",
      "Age            177\n",
      "SibSp            0\n",
      "Parch            0\n",
      "Ticket           0\n",
      "Fare             0\n",
      "Cabin          687\n",
      "Embarked         2\n",
      "dtype: int64\n"
     ]
    }
   ],
   "source": [
    "print('Dados nulos por colunas:\\n', train_df.isnull().sum())"
   ]
  },
  {
   "cell_type": "markdown",
   "metadata": {},
   "source": [
    "Há células defeituosas nas colunas _'Cabin'_ , _'Age'_ e _'Embarked'_. No caso da coluna _'Cabin'_ , o número de linhas com defeito é muito grande em relação ao total, tentar preencher pode ser ruim para o teste, no caso da coluna _'Age'_ os dados faltantes podem ser preenchidos pela média das idades por ser dado quantitativo, e na coluna _'Embarked'_ seria completado com a moda, já que é um dado qualitativo."
   ]
  },
  {
   "cell_type": "code",
   "execution_count": 4,
   "metadata": {},
   "outputs": [],
   "source": [
    "train_df.drop(['Cabin'], axis=1, inplace = True)"
   ]
  },
  {
   "cell_type": "code",
   "execution_count": 5,
   "metadata": {},
   "outputs": [],
   "source": [
    "train_df['Age'].fillna(train_df['Age'].mean(), inplace = True)\n",
    "train_df['Embarked'].fillna(train_df['Embarked'].mode()[0], inplace = True)"
   ]
  },
  {
   "cell_type": "code",
   "execution_count": 6,
   "metadata": {},
   "outputs": [
    {
     "name": "stdout",
     "output_type": "stream",
     "text": [
      "Dados nulos por colunas:\n",
      " PassengerId    0\n",
      "Survived       0\n",
      "Pclass         0\n",
      "Name           0\n",
      "Sex            0\n",
      "Age            0\n",
      "SibSp          0\n",
      "Parch          0\n",
      "Ticket         0\n",
      "Fare           0\n",
      "Embarked       0\n",
      "dtype: int64\n"
     ]
    }
   ],
   "source": [
    "print('Dados nulos por colunas:\\n', train_df.isnull().sum())"
   ]
  },
  {
   "cell_type": "markdown",
   "metadata": {},
   "source": [
    "Tratados os dados faltantes, é necessário remover também os dados que não agregam ao teste. Dados como nome, Id, Ticket, são únicas de cada passageiro, podendo ser descartadas sem causar prejuízo ao teste."
   ]
  },
  {
   "cell_type": "code",
   "execution_count": 7,
   "metadata": {},
   "outputs": [],
   "source": [
    "unuseble_data = ['Name', 'PassengerId', 'Ticket']\n",
    "train_df.drop(unuseble_data, axis=1, inplace = True)"
   ]
  },
  {
   "cell_type": "code",
   "execution_count": 8,
   "metadata": {},
   "outputs": [
    {
     "name": "stdout",
     "output_type": "stream",
     "text": [
      "<class 'pandas.core.frame.DataFrame'>\n",
      "RangeIndex: 891 entries, 0 to 890\n",
      "Data columns (total 8 columns):\n",
      "Survived    891 non-null int64\n",
      "Pclass      891 non-null int64\n",
      "Sex         891 non-null object\n",
      "Age         891 non-null float64\n",
      "SibSp       891 non-null int64\n",
      "Parch       891 non-null int64\n",
      "Fare        891 non-null float64\n",
      "Embarked    891 non-null object\n",
      "dtypes: float64(2), int64(4), object(2)\n",
      "memory usage: 55.8+ KB\n",
      "None\n"
     ]
    }
   ],
   "source": [
    "print(train_df.info())"
   ]
  },
  {
   "cell_type": "markdown",
   "metadata": {},
   "source": [
    "Agora o dataset de treino possui 8 colunas, todas preenchidas com valores não nulos e que seão levados em conta no teste."
   ]
  },
  {
   "cell_type": "markdown",
   "metadata": {},
   "source": [
    "## Matriz de correlação\n",
    "\n",
    "Para produzir a matriz de correlação é necessário transformar valores qualitativos em quantitavos, tais como sexo e porto de embarque."
   ]
  },
  {
   "cell_type": "code",
   "execution_count": 9,
   "metadata": {},
   "outputs": [],
   "source": [
    "def sex_to_number(x):\n",
    "    if x == 'male':\n",
    "        return 1\n",
    "    else:\n",
    "        return 2\n",
    "    \n",
    "def embarked_to_number(x):\n",
    "    if x == 'C':\n",
    "        return 1\n",
    "    elif x == 'Q':\n",
    "        return 2    \n",
    "    else:\n",
    "        return 3\n",
    "\n",
    "train_df['Sex'] = train_df['Sex'].apply(sex_to_number)\n",
    "train_df['Embarked'] = train_df['Embarked'].apply(embarked_to_number)"
   ]
  },
  {
   "cell_type": "code",
   "execution_count": 10,
   "metadata": {},
   "outputs": [
    {
     "data": {
      "text/plain": [
       "<matplotlib.axes._subplots.AxesSubplot at 0x7fed3b7692b0>"
      ]
     },
     "execution_count": 10,
     "metadata": {},
     "output_type": "execute_result"
    },
    {
     "data": {
      "image/png": "[encoded data removed]",
      "text/plain": [
       "<Figure size 432x288 with 2 Axes>"
      ]
     },
     "metadata": {
      "needs_background": "light"
     },
     "output_type": "display_data"
    }
   ],
   "source": [
    "sns.heatmap(train_df.corr(method='pearson'), vmax=1, square=True)"
   ]
  },
  {
   "cell_type": "markdown",
   "metadata": {},
   "source": [
    "Com o _plot_ da matriz de correalção foi possível notar a alta relação de classes com o resultados e de classes entre si. A classe com maior correlação com o resultado foi a do sexo dos passageiros, seguido de sua classe e taxa paga. As classes de taxa paga e classe têm alta correlação, deixando a entender que uma coisa leva a outra, então apenas uma delas será levada em conta na análise, algo parecido ocorre com as classes com respeito ao número de parentes ( _'SibSp'_  e _'Parch'_ ) porém nesse caso a classe _'SibSp'_ será descartada por possuir menor correlação om o resultado."
   ]
  },
  {
   "cell_type": "code",
   "execution_count": 11,
   "metadata": {},
   "outputs": [],
   "source": [
    "def sex_to_string(x):\n",
    "    if x == 1:\n",
    "        return 'male'\n",
    "    else:\n",
    "        return 'female'\n",
    "    \n",
    "def embarked_to_string(x):\n",
    "    if x == 1:\n",
    "        return 'C'\n",
    "    elif x == 2:\n",
    "        return 'Q'    \n",
    "    else:\n",
    "        return 'S'\n",
    "\n",
    "train_df['Sex'] = train_df['Sex'].apply(sex_to_string)\n",
    "train_df['Embarked'] = train_df['Embarked'].apply(embarked_to_string)"
   ]
  },
  {
   "cell_type": "code",
   "execution_count": 12,
   "metadata": {},
   "outputs": [
    {
     "data": {
      "text/plain": [
       "<matplotlib.axes._subplots.AxesSubplot at 0x7fed373a17b8>"
      ]
     },
     "execution_count": 12,
     "metadata": {},
     "output_type": "execute_result"
    },
    {
     "data": {
      "image/png": "[encoded data removed]",
      "text/plain": [
       "<Figure size 1152x864 with 3 Axes>"
      ]
     },
     "metadata": {
      "needs_background": "light"
     },
     "output_type": "display_data"
    }
   ],
   "source": [
    "fig, saxis = plt.subplots(1, 3,figsize=(16,12))\n",
    "\n",
    "sns.barplot(x = 'Sex', y = 'Survived', order=['male','female'], data=train_df, ax = saxis[0])\n",
    "sns.barplot(x = 'Pclass', y = 'Survived', order=[1,2,3], data=train_df, ax = saxis[1])\n",
    "sns.barplot(x = 'Embarked', y = 'Survived', data=train_df, ax = saxis[2])"
   ]
  },
  {
   "cell_type": "markdown",
   "metadata": {},
   "source": [
    "Como notado na matriz de correlação e nos gráficos acima, as informações que mais inluenciaram no resultado final foram o sexo do passageiro, a classe e o porto de embarque. A idade dos passageiros e a quantidade de parentes a bordo também influenciou, além da taxa paga, mas para fins de visualização não eram informações interessantes."
   ]
  },
  {
   "cell_type": "markdown",
   "metadata": {},
   "source": [
    "## Identificando Outliers\n",
    "\n",
    "Nessa fase serão analisadas as classes que possuem valores contínuos para a identificação de outliers."
   ]
  },
  {
   "cell_type": "code",
   "execution_count": 13,
   "metadata": {},
   "outputs": [
    {
     "data": {
      "text/plain": [
       "<matplotlib.axes._subplots.AxesSubplot at 0x7fed36ed6cf8>"
      ]
     },
     "execution_count": 13,
     "metadata": {},
     "output_type": "execute_result"
    },
    {
     "data": {
      "image/png": "[encoded data removed]",
      "text/plain": [
       "<Figure size 1152x864 with 2 Axes>"
      ]
     },
     "metadata": {
      "needs_background": "light"
     },
     "output_type": "display_data"
    }
   ],
   "source": [
    "fig, saxis = plt.subplots(1, 2,figsize=(16,12))\n",
    "\n",
    "sns.boxplot(y = 'Age', data=train_df, order=['male','female'], ax = saxis[0])\n",
    "sns.boxplot(y = 'Fare', data=train_df, order=[1, 2, 3], ax = saxis[1])"
   ]
  },
  {
   "cell_type": "markdown",
   "metadata": {},
   "source": [
    "Observando os dados é pssível perceber a presença de outliers nas colunas _'Fare'_ , e apesar de sua alta relação com o resultado final, esse tipo de informação com valores exorbitantes em relação à média pode atrapalhar o treino, dado que essa classe tem grande correlação com a classe _'Pclass'_ , a sua correlação com o resultado não será descartada. O gráfico da classe _'Age'_ possui alta variância porém com valores factíveis, e tendo alta correlação com o resultado final, é interessante que seja mantida no teste. "
   ]
  },
  {
   "cell_type": "markdown",
   "metadata": {},
   "source": [
    "## Balanceamento das classes\n",
    "\n",
    "Nessa fase são levadas em conta as classes que ainda são relevantes para o treino. É checado o balanceamento das classes por meio de histogramas."
   ]
  },
  {
   "cell_type": "code",
   "execution_count": 14,
   "metadata": {},
   "outputs": [
    {
     "data": {
      "text/plain": [
       "array([[<matplotlib.axes._subplots.AxesSubplot object at 0x7fed3721a7b8>]],\n",
       "      dtype=object)"
      ]
     },
     "execution_count": 14,
     "metadata": {},
     "output_type": "execute_result"
    },
    {
     "data": {
      "image/png": "[encoded data removed]",
      "text/plain": [
       "<Figure size 432x288 with 1 Axes>"
      ]
     },
     "metadata": {
      "needs_background": "light"
     },
     "output_type": "display_data"
    }
   ],
   "source": [
    "train_df.hist(column='Age')"
   ]
  },
  {
   "cell_type": "code",
   "execution_count": 15,
   "metadata": {},
   "outputs": [
    {
     "data": {
      "text/plain": [
       "<matplotlib.axes._subplots.AxesSubplot at 0x7fed371a5e48>"
      ]
     },
     "execution_count": 15,
     "metadata": {},
     "output_type": "execute_result"
    },
    {
     "data": {
      "image/png": "[encoded data removed]",
      "text/plain": [
       "<Figure size 432x288 with 1 Axes>"
      ]
     },
     "metadata": {
      "needs_background": "light"
     },
     "output_type": "display_data"
    }
   ],
   "source": [
    "train_df['Sex'].value_counts().plot(title = 'Sex', kind = 'bar', grid = True, rot = 45)"
   ]
  },
  {
   "cell_type": "code",
   "execution_count": 16,
   "metadata": {},
   "outputs": [
    {
     "data": {
      "text/plain": [
       "<matplotlib.axes._subplots.AxesSubplot at 0x7fed37112b70>"
      ]
     },
     "execution_count": 16,
     "metadata": {},
     "output_type": "execute_result"
    },
    {
     "data": {
      "image/png": "[encoded data removed]",
      "text/plain": [
       "<Figure size 432x288 with 1 Axes>"
      ]
     },
     "metadata": {
      "needs_background": "light"
     },
     "output_type": "display_data"
    }
   ],
   "source": [
    "train_df['Pclass'].value_counts().plot(title = 'Pclass' ,kind = 'bar', grid = True, rot = 45)"
   ]
  },
  {
   "cell_type": "code",
   "execution_count": 17,
   "metadata": {},
   "outputs": [
    {
     "data": {
      "text/plain": [
       "<matplotlib.axes._subplots.AxesSubplot at 0x7fed370e95c0>"
      ]
     },
     "execution_count": 17,
     "metadata": {},
     "output_type": "execute_result"
    },
    {
     "data": {
      "image/png": "[encoded data removed]",
      "text/plain": [
       "<Figure size 432x288 with 1 Axes>"
      ]
     },
     "metadata": {
      "needs_background": "light"
     },
     "output_type": "display_data"
    }
   ],
   "source": [
    "train_df['Embarked'].value_counts().plot(title = 'Embarked', kind = 'bar', grid = True, rot = 45)"
   ]
  },
  {
   "cell_type": "code",
   "execution_count": 18,
   "metadata": {},
   "outputs": [
    {
     "data": {
      "text/plain": [
       "<matplotlib.axes._subplots.AxesSubplot at 0x7fed37050240>"
      ]
     },
     "execution_count": 18,
     "metadata": {},
     "output_type": "execute_result"
    },
    {
     "data": {
      "image/png": "[encoded data removed]",
      "text/plain": [
       "<Figure size 432x288 with 1 Axes>"
      ]
     },
     "metadata": {
      "needs_background": "light"
     },
     "output_type": "display_data"
    }
   ],
   "source": [
    "train_df['Parch'].value_counts().plot(title = 'Parch',kind = 'bar', grid = True, rot = 45)"
   ]
  },
  {
   "cell_type": "markdown",
   "metadata": {},
   "source": [
    "Há uma constatação a se fazer quanto à analíse das classes, apesar de a grande maioria dos passageiros terem embarcado no porto S, foi desse porto o menor número de subreviventes. Assim como a classe de cada passageiro, a maioria fazia parte da classe 3 porém a classe 1 teve maior número de sobreviventes. Percebe-se também o fato de que mais de 60% da tripulação era do sexo masculino, porém o número maior de sobreviventes foi do sexo feminino.\n",
    "\n",
    "Apesar do desbalanceamento da classe _'Parch'_ , é importante mantê-la no treino por sua alta correlação com o resultado."
   ]
  },
  {
   "cell_type": "markdown",
   "metadata": {},
   "source": [
    "## Treinamento e teste"
   ]
  },
  {
   "cell_type": "markdown",
   "metadata": {},
   "source": [
    "### Dividir os dados aleatoriamente entre teste e treino"
   ]
  },
  {
   "cell_type": "code",
   "execution_count": 19,
   "metadata": {},
   "outputs": [],
   "source": [
    "train_df['Sex'] = train_df['Sex'].apply(sex_to_number)\n",
    "train_df['Embarked'] = train_df['Embarked'].apply(embarked_to_number)"
   ]
  },
  {
   "cell_type": "code",
   "execution_count": 20,
   "metadata": {},
   "outputs": [],
   "source": [
    "train_data = ['Sex', 'Embarked', 'Pclass', 'Age', 'Parch']\n",
    "train_target = ['Survived']\n",
    "\n",
    "train_df.drop_duplicates(subset=train_data, keep=False, inplace=True)\n",
    "\n",
    "train_df = pd.get_dummies(train_df)\n",
    "\n",
    "X_train, X_test, y_train, y_test = train_test_split(train_df[train_data], train_df[train_target], test_size=0.2, random_state=0)"
   ]
  },
  {
   "cell_type": "markdown",
   "metadata": {},
   "source": [
    "O dataset foi dividido em 80% para treino e 20% para teste."
   ]
  },
  {
   "cell_type": "markdown",
   "metadata": {},
   "source": [
    "### Aplicação dos algoritmos de classificação\n",
    "\n",
    "Para a predição do resultado foram escolhidos os algoritmos Support Vector Machine com kernel linear e Naive Bayes Gaussiano.\n",
    "\n",
    "### SVM\n",
    "\n",
    "A escolha da SVM foi por seu caráter linear, sendo considerado o melhor algoritmo para a classificação entre duas classes, que é o caso."
   ]
  },
  {
   "cell_type": "code",
   "execution_count": 21,
   "metadata": {
    "scrolled": false
   },
   "outputs": [
    {
     "name": "stdout",
     "output_type": "stream",
     "text": [
      "accuracy: 84.38 %\n",
      "confusion matrix:\n",
      " [[28  3]\n",
      " [ 7 26]]\n",
      "f1 score: 0.84\n",
      "sensibility score: 0.9\n",
      "specificity score: 0.79\n"
     ]
    }
   ],
   "source": [
    "SVM_classifier = svm.SVC(kernel='linear', C=10).fit(X_train, y_train)\n",
    "\n",
    "y_predict_svm = SVM_classifier.predict(X_test)\n",
    "\n",
    "print(\"accuracy:\", round(SVM_classifier.score(X_test, y_test)*100, 2),'%')\n",
    "\n",
    "cm_svm = metrics.confusion_matrix(y_test, y_predict_svm)\n",
    "print(\"confusion matrix:\\n\", cm_svm)\n",
    "\n",
    "print(\"f1 score:\", round(metrics.f1_score(y_test, y_predict_svm), 2))\n",
    "print(\"sensibility score:\", round(metrics.precision_score(y_test, y_predict_svm), 2))\n",
    "print(\"specificity score:\", round(metrics.recall_score(y_test, y_predict_svm), 2))"
   ]
  },
  {
   "cell_type": "markdown",
   "metadata": {},
   "source": [
    "### Naive Bayes\n",
    "\n",
    "A escolha do Naive Bayes foi por seu caráter probabilístico e dado que o número de parâmetros a serem levados em conta nesse problema é pequeno."
   ]
  },
  {
   "cell_type": "code",
   "execution_count": 22,
   "metadata": {
    "scrolled": false
   },
   "outputs": [
    {
     "name": "stdout",
     "output_type": "stream",
     "text": [
      "accuracy: 84.38 %\n",
      "confusion matrix:\n",
      " [[28  3]\n",
      " [ 7 26]]\n",
      "f1 score: 0.84\n",
      "sensibility score: 0.9\n",
      "specificity score: 0.79\n"
     ]
    }
   ],
   "source": [
    "NB_classifier = naive_bayes.GaussianNB()\n",
    "NB_classifier.fit(X_train, y_train)\n",
    "\n",
    "y_predict_nb = NB_classifier.predict(X_test)\n",
    "\n",
    "print(\"accuracy:\", round(NB_classifier.score(X_test, y_test)*100,2),'%')\n",
    "\n",
    "cm_nb = metrics.confusion_matrix(y_test, y_predict_nb)\n",
    "print(\"confusion matrix:\\n\", cm_nb)\n",
    "\n",
    "print(\"f1 score:\", round(metrics.f1_score(y_test, y_predict_nb), 2))\n",
    "print(\"sensibility score:\", round(metrics.precision_score(y_test, y_predict_nb), 2))\n",
    "print(\"specificity score:\", round(metrics.recall_score(y_test, y_predict_nb), 2))"
   ]
  }
 ],
 "metadata": {
  "kernelspec": {
   "display_name": "Python 3",
   "language": "python",
   "name": "python3"
  },
  "language_info": {
   "codemirror_mode": {
    "name": "ipython",
    "version": 3
   },
   "file_extension": ".py",
   "mimetype": "text/x-python",
   "name": "python",
   "nbconvert_exporter": "python",
   "pygments_lexer": "ipython3",
   "version": "3.7.3"
  }
 },
 "nbformat": 4,
 "nbformat_minor": 2
}
