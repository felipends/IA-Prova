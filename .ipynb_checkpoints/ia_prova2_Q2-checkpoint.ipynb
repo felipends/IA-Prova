{
 "cells": [
  {
   "cell_type": "code",
   "execution_count": 1,
   "metadata": {},
   "outputs": [],
   "source": [
    "import numpy as np\n",
    "import pandas as pd\n",
    "\n",
    "import matplotlib.pyplot as plt\n",
    "import seaborn as sns\n",
    "\n",
    "from sklearn.model_selection import train_test_split\n",
    "from sklearn import svm, metrics, preprocessing\n",
    "from sklearn.ensemble import GradientBoostingRegressor\n",
    "from sklearn.ensemble import RandomForestRegressor\n",
    "from sklearn.neural_network import MLPRegressor\n",
    "from sklearn.linear_model import Lasso, BaysianRidge\n",
    "\n",
    "import warnings\n",
    "warnings.filterwarnings('ignore')"
   ]
  },
  {
   "cell_type": "markdown",
   "metadata": {},
   "source": [
    "## Limpeza dos dados\n",
    "\n",
    "Fase de limpeza e comparação dos dados."
   ]
  },
  {
   "cell_type": "code",
   "execution_count": 2,
   "metadata": {},
   "outputs": [],
   "source": [
    "train_df = pd.read_csv(\"/home/josefelipe/Documents/IA-Thais/prova/house-pricing/train.csv\", encoding='UTF-8')"
   ]
  },
  {
   "cell_type": "code",
   "execution_count": 3,
   "metadata": {},
   "outputs": [
    {
     "data": {
      "text/plain": [
       "PoolQC           1453\n",
       "MiscFeature      1406\n",
       "Alley            1369\n",
       "Fence            1179\n",
       "FireplaceQu       690\n",
       "LotFrontage       259\n",
       "GarageCond         81\n",
       "GarageType         81\n",
       "GarageYrBlt        81\n",
       "GarageFinish       81\n",
       "GarageQual         81\n",
       "BsmtExposure       38\n",
       "BsmtFinType2       38\n",
       "BsmtFinType1       37\n",
       "BsmtCond           37\n",
       "BsmtQual           37\n",
       "MasVnrArea          8\n",
       "MasVnrType          8\n",
       "Electrical          1\n",
       "Utilities           0\n",
       "YearRemodAdd        0\n",
       "MSSubClass          0\n",
       "Foundation          0\n",
       "ExterCond           0\n",
       "ExterQual           0\n",
       "Exterior2nd         0\n",
       "Exterior1st         0\n",
       "RoofMatl            0\n",
       "RoofStyle           0\n",
       "YearBuilt           0\n",
       "                 ... \n",
       "GarageArea          0\n",
       "PavedDrive          0\n",
       "WoodDeckSF          0\n",
       "OpenPorchSF         0\n",
       "3SsnPorch           0\n",
       "BsmtUnfSF           0\n",
       "ScreenPorch         0\n",
       "PoolArea            0\n",
       "MiscVal             0\n",
       "MoSold              0\n",
       "YrSold              0\n",
       "SaleType            0\n",
       "Functional          0\n",
       "TotRmsAbvGrd        0\n",
       "KitchenQual         0\n",
       "KitchenAbvGr        0\n",
       "BedroomAbvGr        0\n",
       "HalfBath            0\n",
       "FullBath            0\n",
       "BsmtHalfBath        0\n",
       "BsmtFullBath        0\n",
       "GrLivArea           0\n",
       "LowQualFinSF        0\n",
       "2ndFlrSF            0\n",
       "1stFlrSF            0\n",
       "CentralAir          0\n",
       "SaleCondition       0\n",
       "Heating             0\n",
       "TotalBsmtSF         0\n",
       "Id                  0\n",
       "Length: 81, dtype: int64"
      ]
     },
     "execution_count": 3,
     "metadata": {},
     "output_type": "execute_result"
    }
   ],
   "source": [
    "train_df.isnull().sum().sort_values(ascending=False)"
   ]
  },
  {
   "cell_type": "markdown",
   "metadata": {},
   "source": [
    "Foram idenificadas 19 colunas que possuem células vazias. A quantidade de células vazias varia de uma coluna para outra. Serão descartadas as colunas com mais que 10 células vazias, as demais serão preenchidas com a moda da classe."
   ]
  },
  {
   "cell_type": "code",
   "execution_count": 4,
   "metadata": {},
   "outputs": [
    {
     "name": "stdout",
     "output_type": "stream",
     "text": [
      "0\n"
     ]
    }
   ],
   "source": [
    "dropped_cls = []\n",
    "\n",
    "for cl in train_df.columns:\n",
    "    if train_df[cl].isnull().sum() > 10:\n",
    "        dropped_cls.append(cl)\n",
    "    else:\n",
    "        train_df[cl].fillna(train_df[cl].mode()[0], inplace = True)\n",
    "        \n",
    "train_df.drop(dropped_cls, axis=1, inplace = True)\n",
    "\n",
    "print(train_df.isnull().sum().max())"
   ]
  },
  {
   "cell_type": "markdown",
   "metadata": {},
   "source": [
    "Feita o tratamento dos valores nulos, agora será feita a escolha das classes que farão parte do teste.\n",
    "\n",
    "Essa escolha será feita de acordo com a correlação da classe com o resultado, considerando apenas as 20 classes que mais se relacionam com a classe _'SalePrice'_."
   ]
  },
  {
   "cell_type": "code",
   "execution_count": 5,
   "metadata": {},
   "outputs": [
    {
     "data": {
      "text/plain": [
       "<matplotlib.axes._subplots.AxesSubplot at 0x7f406af43e10>"
      ]
     },
     "execution_count": 5,
     "metadata": {},
     "output_type": "execute_result"
    },
    {
     "data": {
      "image/png": "[encoded data removed]",
      "text/plain": [
       "<Figure size 720x648 with 2 Axes>"
      ]
     },
     "metadata": {
      "needs_background": "light"
     },
     "output_type": "display_data"
    }
   ],
   "source": [
    "cols = train_df.corr().index[abs(train_df.corr()[\"SalePrice\"])>0.4]\n",
    "corr_matrix = np.corrcoef(train_df[cols].values.T)\n",
    "\n",
    "f, ax = plt.subplots(figsize=(10, 9))\n",
    "sns.heatmap(corr_matrix, square=True, yticklabels=cols.values, xticklabels=cols.values)"
   ]
  },
  {
   "cell_type": "markdown",
   "metadata": {},
   "source": [
    "Essas serão as classes consideradas para o teste."
   ]
  },
  {
   "cell_type": "code",
   "execution_count": 6,
   "metadata": {},
   "outputs": [
    {
     "data": {
      "text/html": [
       "<div>\n",
       "<style scoped>\n",
       "    .dataframe tbody tr th:only-of-type {\n",
       "        vertical-align: middle;\n",
       "    }\n",
       "\n",
       "    .dataframe tbody tr th {\n",
       "        vertical-align: top;\n",
       "    }\n",
       "\n",
       "    .dataframe thead th {\n",
       "        text-align: right;\n",
       "    }\n",
       "</style>\n",
       "<table border=\"1\" class=\"dataframe\">\n",
       "  <thead>\n",
       "    <tr style=\"text-align: right;\">\n",
       "      <th></th>\n",
       "      <th>OverallQual</th>\n",
       "      <th>YearBuilt</th>\n",
       "      <th>YearRemodAdd</th>\n",
       "      <th>MasVnrArea</th>\n",
       "      <th>TotalBsmtSF</th>\n",
       "      <th>1stFlrSF</th>\n",
       "      <th>GrLivArea</th>\n",
       "      <th>FullBath</th>\n",
       "      <th>TotRmsAbvGrd</th>\n",
       "      <th>Fireplaces</th>\n",
       "      <th>GarageCars</th>\n",
       "      <th>GarageArea</th>\n",
       "      <th>SalePrice</th>\n",
       "    </tr>\n",
       "  </thead>\n",
       "  <tbody>\n",
       "    <tr>\n",
       "      <th>count</th>\n",
       "      <td>1460.000000</td>\n",
       "      <td>1460.000000</td>\n",
       "      <td>1460.000000</td>\n",
       "      <td>1460.000000</td>\n",
       "      <td>1460.000000</td>\n",
       "      <td>1460.000000</td>\n",
       "      <td>1460.000000</td>\n",
       "      <td>1460.000000</td>\n",
       "      <td>1460.000000</td>\n",
       "      <td>1460.000000</td>\n",
       "      <td>1460.000000</td>\n",
       "      <td>1460.000000</td>\n",
       "      <td>1460.000000</td>\n",
       "    </tr>\n",
       "    <tr>\n",
       "      <th>mean</th>\n",
       "      <td>6.099315</td>\n",
       "      <td>1971.267808</td>\n",
       "      <td>1984.865753</td>\n",
       "      <td>103.117123</td>\n",
       "      <td>1057.429452</td>\n",
       "      <td>1162.626712</td>\n",
       "      <td>1515.463699</td>\n",
       "      <td>1.565068</td>\n",
       "      <td>6.517808</td>\n",
       "      <td>0.613014</td>\n",
       "      <td>1.767123</td>\n",
       "      <td>472.980137</td>\n",
       "      <td>180921.195890</td>\n",
       "    </tr>\n",
       "    <tr>\n",
       "      <th>std</th>\n",
       "      <td>1.382997</td>\n",
       "      <td>30.202904</td>\n",
       "      <td>20.645407</td>\n",
       "      <td>180.731373</td>\n",
       "      <td>438.705324</td>\n",
       "      <td>386.587738</td>\n",
       "      <td>525.480383</td>\n",
       "      <td>0.550916</td>\n",
       "      <td>1.625393</td>\n",
       "      <td>0.644666</td>\n",
       "      <td>0.747315</td>\n",
       "      <td>213.804841</td>\n",
       "      <td>79442.502883</td>\n",
       "    </tr>\n",
       "    <tr>\n",
       "      <th>min</th>\n",
       "      <td>1.000000</td>\n",
       "      <td>1872.000000</td>\n",
       "      <td>1950.000000</td>\n",
       "      <td>0.000000</td>\n",
       "      <td>0.000000</td>\n",
       "      <td>334.000000</td>\n",
       "      <td>334.000000</td>\n",
       "      <td>0.000000</td>\n",
       "      <td>2.000000</td>\n",
       "      <td>0.000000</td>\n",
       "      <td>0.000000</td>\n",
       "      <td>0.000000</td>\n",
       "      <td>34900.000000</td>\n",
       "    </tr>\n",
       "    <tr>\n",
       "      <th>25%</th>\n",
       "      <td>5.000000</td>\n",
       "      <td>1954.000000</td>\n",
       "      <td>1967.000000</td>\n",
       "      <td>0.000000</td>\n",
       "      <td>795.750000</td>\n",
       "      <td>882.000000</td>\n",
       "      <td>1129.500000</td>\n",
       "      <td>1.000000</td>\n",
       "      <td>5.000000</td>\n",
       "      <td>0.000000</td>\n",
       "      <td>1.000000</td>\n",
       "      <td>334.500000</td>\n",
       "      <td>129975.000000</td>\n",
       "    </tr>\n",
       "    <tr>\n",
       "      <th>50%</th>\n",
       "      <td>6.000000</td>\n",
       "      <td>1973.000000</td>\n",
       "      <td>1994.000000</td>\n",
       "      <td>0.000000</td>\n",
       "      <td>991.500000</td>\n",
       "      <td>1087.000000</td>\n",
       "      <td>1464.000000</td>\n",
       "      <td>2.000000</td>\n",
       "      <td>6.000000</td>\n",
       "      <td>1.000000</td>\n",
       "      <td>2.000000</td>\n",
       "      <td>480.000000</td>\n",
       "      <td>163000.000000</td>\n",
       "    </tr>\n",
       "    <tr>\n",
       "      <th>75%</th>\n",
       "      <td>7.000000</td>\n",
       "      <td>2000.000000</td>\n",
       "      <td>2004.000000</td>\n",
       "      <td>164.250000</td>\n",
       "      <td>1298.250000</td>\n",
       "      <td>1391.250000</td>\n",
       "      <td>1776.750000</td>\n",
       "      <td>2.000000</td>\n",
       "      <td>7.000000</td>\n",
       "      <td>1.000000</td>\n",
       "      <td>2.000000</td>\n",
       "      <td>576.000000</td>\n",
       "      <td>214000.000000</td>\n",
       "    </tr>\n",
       "    <tr>\n",
       "      <th>max</th>\n",
       "      <td>10.000000</td>\n",
       "      <td>2010.000000</td>\n",
       "      <td>2010.000000</td>\n",
       "      <td>1600.000000</td>\n",
       "      <td>6110.000000</td>\n",
       "      <td>4692.000000</td>\n",
       "      <td>5642.000000</td>\n",
       "      <td>3.000000</td>\n",
       "      <td>14.000000</td>\n",
       "      <td>3.000000</td>\n",
       "      <td>4.000000</td>\n",
       "      <td>1418.000000</td>\n",
       "      <td>755000.000000</td>\n",
       "    </tr>\n",
       "  </tbody>\n",
       "</table>\n",
       "</div>"
      ],
      "text/plain": [
       "       OverallQual    YearBuilt  YearRemodAdd   MasVnrArea  TotalBsmtSF  \\\n",
       "count  1460.000000  1460.000000   1460.000000  1460.000000  1460.000000   \n",
       "mean      6.099315  1971.267808   1984.865753   103.117123  1057.429452   \n",
       "std       1.382997    30.202904     20.645407   180.731373   438.705324   \n",
       "min       1.000000  1872.000000   1950.000000     0.000000     0.000000   \n",
       "25%       5.000000  1954.000000   1967.000000     0.000000   795.750000   \n",
       "50%       6.000000  1973.000000   1994.000000     0.000000   991.500000   \n",
       "75%       7.000000  2000.000000   2004.000000   164.250000  1298.250000   \n",
       "max      10.000000  2010.000000   2010.000000  1600.000000  6110.000000   \n",
       "\n",
       "          1stFlrSF    GrLivArea     FullBath  TotRmsAbvGrd   Fireplaces  \\\n",
       "count  1460.000000  1460.000000  1460.000000   1460.000000  1460.000000   \n",
       "mean   1162.626712  1515.463699     1.565068      6.517808     0.613014   \n",
       "std     386.587738   525.480383     0.550916      1.625393     0.644666   \n",
       "min     334.000000   334.000000     0.000000      2.000000     0.000000   \n",
       "25%     882.000000  1129.500000     1.000000      5.000000     0.000000   \n",
       "50%    1087.000000  1464.000000     2.000000      6.000000     1.000000   \n",
       "75%    1391.250000  1776.750000     2.000000      7.000000     1.000000   \n",
       "max    4692.000000  5642.000000     3.000000     14.000000     3.000000   \n",
       "\n",
       "        GarageCars   GarageArea      SalePrice  \n",
       "count  1460.000000  1460.000000    1460.000000  \n",
       "mean      1.767123   472.980137  180921.195890  \n",
       "std       0.747315   213.804841   79442.502883  \n",
       "min       0.000000     0.000000   34900.000000  \n",
       "25%       1.000000   334.500000  129975.000000  \n",
       "50%       2.000000   480.000000  163000.000000  \n",
       "75%       2.000000   576.000000  214000.000000  \n",
       "max       4.000000  1418.000000  755000.000000  "
      ]
     },
     "execution_count": 6,
     "metadata": {},
     "output_type": "execute_result"
    }
   ],
   "source": [
    "train_df = train_df[cols]\n",
    "\n",
    "train_df.describe()"
   ]
  },
  {
   "cell_type": "markdown",
   "metadata": {},
   "source": [
    "Para a fase de testes, obtem-se os valores em seu formato dummy. E a base é dividida em teste e treino."
   ]
  },
  {
   "cell_type": "code",
   "execution_count": 7,
   "metadata": {},
   "outputs": [],
   "source": [
    "train_data = [x for x in train_df.columns if x != 'SalePrice']\n",
    "train_target = ['SalePrice']\n",
    "\n",
    "train_df = pd.get_dummies(train_df)\n",
    "\n",
    "X_train, X_test, y_train, y_test = train_test_split(train_df[train_data], train_df[train_target], test_size=0.35, random_state=0)"
   ]
  },
  {
   "cell_type": "markdown",
   "metadata": {},
   "source": [
    "Nessa fase serão testados os aloritmos para avaliar o que possui menor erro médio.\n",
    "\n",
    "### Support Vector Regressor"
   ]
  },
  {
   "cell_type": "code",
   "execution_count": 8,
   "metadata": {
    "scrolled": true
   },
   "outputs": [
    {
     "name": "stdout",
     "output_type": "stream",
     "text": [
      "absolute mean error: 23404.422160811904\n"
     ]
    }
   ],
   "source": [
    "SVR_reg = svm.SVR(kernel='linear', C=20)\n",
    "SVR_reg.fit(X_train, y_train)\n",
    "\n",
    "SVR_predict = SVR_reg.predict(X_test)\n",
    "\n",
    "print(\"absolute mean error:\", metrics.mean_absolute_error(y_test, SVR_predict))"
   ]
  },
  {
   "cell_type": "markdown",
   "metadata": {},
   "source": [
    "### Gradient Boosting Regressor"
   ]
  },
  {
   "cell_type": "code",
   "execution_count": 9,
   "metadata": {
    "scrolled": true
   },
   "outputs": [
    {
     "name": "stdout",
     "output_type": "stream",
     "text": [
      "absolute mean error: 18934.2655292803\n"
     ]
    }
   ],
   "source": [
    "GB_reg = GradientBoostingRegressor()\n",
    "GB_reg.fit(X_train, y_train)\n",
    "\n",
    "GBR_predict = GB_reg.predict(X_test)\n",
    "\n",
    "print(\"absolute mean error:\", metrics.mean_absolute_error(y_test, GBR_predict))"
   ]
  },
  {
   "cell_type": "markdown",
   "metadata": {},
   "source": [
    "### Random Forest Regressor"
   ]
  },
  {
   "cell_type": "code",
   "execution_count": 10,
   "metadata": {
    "scrolled": true
   },
   "outputs": [
    {
     "name": "stdout",
     "output_type": "stream",
     "text": [
      "absolute mean error: 20005.34324853229\n"
     ]
    }
   ],
   "source": [
    "RF_reg = RandomForestRegressor()\n",
    "RF_reg.fit(X_train, y_train)\n",
    "\n",
    "RFR_predict = RF_reg.predict(X_test)\n",
    "\n",
    "print(\"absolute mean error:\", metrics.mean_absolute_error(y_test, RFR_predict))"
   ]
  },
  {
   "cell_type": "markdown",
   "metadata": {},
   "source": [
    "### Multi-layer Perceptron regressor"
   ]
  },
  {
   "cell_type": "code",
   "execution_count": 11,
   "metadata": {},
   "outputs": [
    {
     "name": "stdout",
     "output_type": "stream",
     "text": [
      "absolute mean error: 28119.16010424639\n"
     ]
    }
   ],
   "source": [
    "MLP_reg = MLPRegressor(activation='identity', solver='lbfgs', learning_rate='adaptive')\n",
    "MLP_reg.fit(X_train, y_train)\n",
    "\n",
    "MLP_predict = MLP_reg.predict(X_test)\n",
    "\n",
    "print(\"absolute mean error:\", metrics.mean_absolute_error(y_test, MLP_predict))"
   ]
  },
  {
   "cell_type": "markdown",
   "metadata": {},
   "source": [
    "### Lasso"
   ]
  },
  {
   "cell_type": "code",
   "execution_count": 12,
   "metadata": {},
   "outputs": [
    {
     "name": "stdout",
     "output_type": "stream",
     "text": [
      "absolute mean error: 23602.33807486249\n"
     ]
    }
   ],
   "source": [
    "Lasso_reg = Lasso(alpha=0.1, precompute=True, warm_start=True)\n",
    "Lasso_reg.fit(X_train, y_train)\n",
    "\n",
    "Lasso_predict = Lasso_reg.predict(X_test)\n",
    "\n",
    "print(\"absolute mean error:\", metrics.mean_absolute_error(y_test, Lasso_predict))"
   ]
  },
  {
   "cell_type": "markdown",
   "metadata": {},
   "source": [
    "### Baysian Ridge"
   ]
  },
  {
   "cell_type": "code",
   "execution_count": null,
   "metadata": {},
   "outputs": [],
   "source": []
  }
 ],
 "metadata": {
  "kernelspec": {
   "display_name": "Python 3",
   "language": "python",
   "name": "python3"
  },
  "language_info": {
   "codemirror_mode": {
    "name": "ipython",
    "version": 3
   },
   "file_extension": ".py",
   "mimetype": "text/x-python",
   "name": "python",
   "nbconvert_exporter": "python",
   "pygments_lexer": "ipython3",
   "version": "3.7.3"
  }
 },
 "nbformat": 4,
 "nbformat_minor": 2
}
